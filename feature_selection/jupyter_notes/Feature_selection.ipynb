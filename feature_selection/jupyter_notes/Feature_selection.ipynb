{
 "cells": [
  {
   "cell_type": "markdown",
   "metadata": {},
   "source": [
    "## Feature Selection Techniques\n",
    "\n",
    "<!-- <hr>\n",
    "\n",
    "### Agenda\n",
    "1. Introduction to Feature Selection\n",
    "2. VarianceThreshold\n",
    "3. Chi-squared stats\n",
    "4. ANOVA using f_classif\n",
    "5. Univariate Linear Regression Tests using f_regression\n",
    "6. F-score vs Mutual Information\n",
    "7. Mutual Information for discrete value\n",
    "8. Mutual Information for continues value\n",
    "9. SelectKBest\n",
    "10. SelectPercentile\n",
    "11. SelectFromModel\n",
    "12. Recursive Feature Elemination\n",
    "\n",
    "<hr> -->"
   ]
  },
  {
   "cell_type": "markdown",
   "metadata": {},
   "source": [
    "### Feature Selection\n",
    "* Selecting features from the dataset\n",
    "* Improve estimator's accuracy\n",
    "* Boost preformance for high dimensional datsets\n",
    "* Below we will discuss univariate selection methods\n",
    "* Also, feature elimination method"
   ]
  },
  {
   "cell_type": "code",
   "execution_count": 29,
   "metadata": {},
   "outputs": [],
   "source": [
    "from sklearn import feature_selection\n",
    "import pandas as pd\n",
    "import numpy as np\n",
    "import matplotlib.pyplot as plt\n",
    "%matplotlib inline\n",
    "\n",
    "from sklearn.preprocessing import LabelEncoder\n",
    "le = LabelEncoder()"
   ]
  },
  {
   "cell_type": "markdown",
   "metadata": {},
   "source": [
    "### Mutual Information for classification using mutual_info_classification\n",
    "* Returns dependency in the scale of 0 & 1 among feature & target\n",
    "* Captures any kind of dependency even if non-linear\n",
    "* Target is discrete in nature"
   ]
  },
  {
   "cell_type": "code",
   "execution_count": 56,
   "metadata": {},
   "outputs": [],
   "source": [
    "df = pd.read_csv('data.csv')"
   ]
  },
  {
   "cell_type": "code",
   "execution_count": 57,
   "metadata": {},
   "outputs": [],
   "source": [
    "df.drop(columns=[\"住院号\", \"CT号\"], index=1, inplace=True)\n"
   ]
  },
  {
   "cell_type": "code",
   "execution_count": 58,
   "metadata": {},
   "outputs": [],
   "source": [
    "## fit_transform(): Used on the training data so that we can scale the training data \n",
    "## and also learn the scaling parameters of that data.\n",
    "\n",
    "for col in df.columns:\n",
    "    le = LabelEncoder()\n",
    "    df[col] = le.fit_transform(df[col])"
   ]
  },
  {
   "cell_type": "code",
   "execution_count": 60,
   "metadata": {},
   "outputs": [
    {
     "data": {
      "text/plain": [
       "array([0.00581123, 0.10523715, 0.07344954, 0.        , 0.        ,\n",
       "       0.        , 0.        , 0.04024628, 0.04073715, 0.03801411,\n",
       "       0.        , 0.        , 0.06247625, 0.0474178 , 0.110514  ,\n",
       "       0.08397866, 0.24394015, 0.24567307, 0.18962624, 0.21935476,\n",
       "       0.04799043, 0.06297876])"
      ]
     },
     "execution_count": 60,
     "metadata": {},
     "output_type": "execute_result"
    }
   ],
   "source": [
    "feature_selection.mutual_info_classif(df.drop('M_rate', axis=1), df.M_rate) # mutual_info_classification"
   ]
  },
  {
   "cell_type": "code",
   "execution_count": 65,
   "metadata": {},
   "outputs": [],
   "source": [
    "chi2, pval = feature_selection.f_classif(df.drop('M_rate', axis=1), df.M_rate) # f_classif"
   ]
  },
  {
   "cell_type": "code",
   "execution_count": 66,
   "metadata": {},
   "outputs": [],
   "source": [
    "F, pval = feature_selection.f_regression(df.drop('M_rate', axis=1), df.M_rate) # f_regression"
   ]
  },
  {
   "cell_type": "code",
   "execution_count": 68,
   "metadata": {},
   "outputs": [
    {
     "data": {
      "text/plain": [
       "array([0.02137916, 0.1389955 , 0.16038144, 0.        , 0.02403568,\n",
       "       0.10512181, 0.05809497, 0.04339978, 0.        , 0.        ,\n",
       "       0.        , 0.        , 0.06520219, 0.04898776, 0.12155731,\n",
       "       0.184342  , 0.22503207, 0.11800883, 0.21279133, 0.17206704,\n",
       "       0.09783133, 0.1042841 ])"
      ]
     },
     "execution_count": 68,
     "metadata": {},
     "output_type": "execute_result"
    }
   ],
   "source": [
    "feature_selection.mutual_info_regression(df.drop('M_rate', axis=1), df.M_rate) # mutual_info_regression"
   ]
  },
  {
   "cell_type": "code",
   "execution_count": 61,
   "metadata": {},
   "outputs": [
    {
     "data": {
      "text/plain": [
       "Index(['窦-连合LCC', '窦-连合RCC', '窦-连合NCC', '周长LCC', '周长RCC', '周长NCC', 'AV面积',\n",
       "       'Valsalva窦', 'AV-annulus', 'STJ', 'AO根部直径', 'AO根部面积', 'mPA直径', 'mPA面积',\n",
       "       'LPA近端直径', 'LPA近端面积', 'RPA近端直径', 'RPA近端面积', 'LPA远端直径', 'LPA远端面积',\n",
       "       'RPA远端直径', 'RPA远端面积', 'M_rate'],\n",
       "      dtype='object')"
      ]
     },
     "execution_count": 61,
     "metadata": {},
     "output_type": "execute_result"
    }
   ],
   "source": [
    "df.columns"
   ]
  },
  {
   "cell_type": "markdown",
   "metadata": {},
   "source": [
    "### 11. SelectFromModel\n",
    "* Selecting important features from model weights\n",
    "* The estimator should support 'feature_importances'"
   ]
  },
  {
   "cell_type": "code",
   "execution_count": 50,
   "metadata": {},
   "outputs": [],
   "source": [
    "from sklearn.datasets import load_boston"
   ]
  },
  {
   "cell_type": "code",
   "execution_count": 51,
   "metadata": {},
   "outputs": [],
   "source": [
    "boston = load_boston()"
   ]
  },
  {
   "cell_type": "code",
   "execution_count": 52,
   "metadata": {},
   "outputs": [],
   "source": [
    "from sklearn.linear_model import LinearRegression"
   ]
  },
  {
   "cell_type": "code",
   "execution_count": 53,
   "metadata": {},
   "outputs": [],
   "source": [
    "clf = LinearRegression()\n",
    "sfm = feature_selection.SelectFromModel(clf, threshold=0.25)"
   ]
  },
  {
   "cell_type": "code",
   "execution_count": 54,
   "metadata": {},
   "outputs": [
    {
     "data": {
      "text/plain": [
       "(506, 7)"
      ]
     },
     "execution_count": 54,
     "metadata": {},
     "output_type": "execute_result"
    }
   ],
   "source": [
    "sfm.fit_transform(boston.data, boston.target).shape"
   ]
  },
  {
   "cell_type": "code",
   "execution_count": 55,
   "metadata": {},
   "outputs": [
    {
     "data": {
      "text/plain": [
       "(506, 13)"
      ]
     },
     "execution_count": 55,
     "metadata": {},
     "output_type": "execute_result"
    }
   ],
   "source": [
    "boston.data.shape"
   ]
  },
  {
   "cell_type": "markdown",
   "metadata": {},
   "source": [
    "### 12. Recursive Feature Elimination\n",
    "* Uses an external estimator to calculate weights of features\n",
    "* First, the estimator is trained on the initial set of features and the importance of each feature is obtained either through a coef_ attribute or through a feature_importances_ attribute. \n",
    "* Then, the least important features are pruned from current set of features. \n",
    "* That procedure is recursively repeated on the pruned set until the desired number of features to select is eventually reached."
   ]
  },
  {
   "cell_type": "code",
   "execution_count": 63,
   "metadata": {},
   "outputs": [],
   "source": [
    "from sklearn.datasets import make_regression\n",
    "from sklearn.feature_selection import RFE\n",
    "from sklearn.svm import SVR\n",
    "X, y = make_regression(n_samples=50, n_features=10, random_state=0)\n",
    "estimator = SVR(kernel=\"linear\")\n",
    "selector = RFE(estimator, 5, step=1)\n",
    "data = selector.fit_transform(X, y)"
   ]
  },
  {
   "cell_type": "code",
   "execution_count": 65,
   "metadata": {},
   "outputs": [
    {
     "data": {
      "text/plain": [
       "(50, 10)"
      ]
     },
     "execution_count": 65,
     "metadata": {},
     "output_type": "execute_result"
    }
   ],
   "source": [
    "X.shape"
   ]
  },
  {
   "cell_type": "code",
   "execution_count": 66,
   "metadata": {},
   "outputs": [
    {
     "data": {
      "text/plain": [
       "(50, 5)"
      ]
     },
     "execution_count": 66,
     "metadata": {},
     "output_type": "execute_result"
    }
   ],
   "source": [
    "data.shape"
   ]
  },
  {
   "cell_type": "code",
   "execution_count": 67,
   "metadata": {},
   "outputs": [
    {
     "data": {
      "text/plain": [
       "array([1, 1, 4, 3, 1, 6, 1, 2, 5, 1])"
      ]
     },
     "execution_count": 67,
     "metadata": {},
     "output_type": "execute_result"
    }
   ],
   "source": [
    "selector.ranking_"
   ]
  },
  {
   "cell_type": "code",
   "execution_count": null,
   "metadata": {},
   "outputs": [],
   "source": []
  }
 ],
 "metadata": {
  "kernelspec": {
   "display_name": "Python 3 (ipykernel)",
   "language": "python",
   "name": "python3"
  },
  "language_info": {
   "codemirror_mode": {
    "name": "ipython",
    "version": 3
   },
   "file_extension": ".py",
   "mimetype": "text/x-python",
   "name": "python",
   "nbconvert_exporter": "python",
   "pygments_lexer": "ipython3",
   "version": "3.8.10"
  }
 },
 "nbformat": 4,
 "nbformat_minor": 2
}
